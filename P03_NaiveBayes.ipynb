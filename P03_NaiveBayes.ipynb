{
  "nbformat": 4,
  "nbformat_minor": 0,
  "metadata": {
    "colab": {
      "provenance": []
    },
    "kernelspec": {
      "name": "python3",
      "display_name": "Python 3"
    },
    "language_info": {
      "name": "python"
    }
  },
  "cells": [
    {
      "cell_type": "markdown",
      "source": [
        "Práctica 03 - 04/24/2023\n",
        "\n",
        "Grupo: 6CV3\n",
        "\n",
        "Materia: Machine Learning"
      ],
      "metadata": {
        "id": "PHKLbLsPVSUl"
      }
    },
    {
      "cell_type": "code",
      "execution_count": null,
      "metadata": {
        "colab": {
          "base_uri": "https://localhost:8080/"
        },
        "id": "tUrKaAYt9skp",
        "outputId": "f1ab204c-dbf9-43b8-8119-3045882a3915"
      },
      "outputs": [
        {
          "output_type": "stream",
          "name": "stdout",
          "text": [
            "Valores promedio de métricas\n",
            "\n",
            "Exactitud: 0.96\n",
            "Precisión: 0.9654761904761905\n",
            "Sensibilidad: 0.96\n",
            "F1-score: 0.9591750841750841\n",
            "\n"
          ]
        }
      ],
      "source": [
        "from sklearn.model_selection import StratifiedKFold\n",
        "from sklearn.datasets import load_iris\n",
        "from sklearn.naive_bayes import GaussianNB\n",
        "from sklearn.metrics import accuracy_score, precision_score, recall_score, f1_score\n",
        "import statistics\n",
        "\n",
        "#Se carga el dataset de la iris plant desde sklearn\n",
        "iris = load_iris()\n",
        "\n",
        "#Se crea la variable para utilizar el K-Fold cross-validation estratificado con una semilla de 8 y valor de k = 10\n",
        "skf = StratifiedKFold(n_splits = 10, shuffle = True, random_state = 8)\n",
        "\n",
        "#Se crean las listas en donde se van a almacenar los valores de las métricas obtenidas en las 10 ejecuciones del K-Fold para posteriormente obtener su promedio\n",
        "accuracy = list()\n",
        "precision = list()\n",
        "recall = list()\n",
        "f1 = list()\n",
        "\n",
        "print(\"Valores promedio de métricas\\n\")\n",
        "for train_index, test_index in skf.split(iris.data, iris.target): #Mediante este ciclo se realizan las 10 ejecuciones del K-Fold\n",
        "    #Se obtienen los conjuntos de prueba y entrenamiento\n",
        "    X_train, X_test = iris.data[train_index], iris.data[test_index]\n",
        "    y_train, y_test = iris.target[train_index], iris.target[test_index]\n",
        "\n",
        "    bayesiano = GaussianNB() #Se crea la variable para aplicar el clasificador bayesiano\n",
        "    bayesiano.fit(X_train, y_train) #Se entrena al clasificador bayesiano con el conjunto de entrenamiento\n",
        "    y_pred = bayesiano.predict(X_test) #Se predicen las clases con el conjunto de prueba\n",
        "\n",
        "    #Se comparan las clases predichas con las reales y se van almacenando cada una de las métricas obtenidas de esa comparación en su respectiva lista\n",
        "    accuracy.append(accuracy_score(y_test, y_pred)) #Exactitud\n",
        "    precision.append(precision_score(y_test, y_pred, average=\"macro\")) #Precisión\n",
        "    recall.append(recall_score(y_test, y_pred, average=\"macro\")) #Sensibilidad\n",
        "    f1.append(f1_score(y_test, y_pred, average=\"macro\")) #F1-score\n",
        "\n",
        "#Al terminar las 10 ejecuciones se obtiene el promedio de cada métrica y se muestran\n",
        "print(f'Exactitud: {statistics.mean(accuracy)}')\n",
        "print(f'Precisión: {statistics.mean(precision)}')\n",
        "print(f'Sensibilidad: {statistics.mean(recall)}')\n",
        "print(f'F1-score: {statistics.mean(f1)}\\n')"
      ]
    }
  ]
}