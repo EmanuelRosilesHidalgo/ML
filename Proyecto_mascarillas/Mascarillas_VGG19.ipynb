{
 "cells": [
  {
   "cell_type": "markdown",
   "id": "8b4ce19d",
   "metadata": {},
   "source": [
    "# Proyecto Machine Learning - Clasificacion de imagenes\n",
    "# -- Clasificacion si una persona porta o no mascarilla --\n",
    "## Grupo: 6CV3\n",
    "## Integrantes:\n",
    "* Pérez Mongragón Eduardo\n",
    "* Rosiles Hidalgo Emanuel\n",
    "\n",
    "# VGG19"
   ]
  },
  {
   "cell_type": "code",
   "execution_count": 57,
   "id": "3c454b66",
   "metadata": {},
   "outputs": [],
   "source": [
    "import os\n",
    "import numpy as np\n",
    "import seaborn as sns\n",
    "import matplotlib.pyplot as plt\n",
    "from keras.applications.vgg19 import VGG19\n",
    "from tensorflow.keras.utils import to_categorical\n",
    "from keras.models import Sequential, Model, load_model\n",
    "from keras.layers import GlobalAveragePooling2D, Dense, Flatten\n",
    "from sklearn.model_selection import train_test_split\n",
    "from sklearn.metrics import classification_report, confusion_matrix\n",
    "from keras.applications.resnet import preprocess_input\n",
    "from keras.preprocessing.image import ImageDataGenerator\n",
    "from tensorflow.keras.preprocessing.image import load_img, img_to_array"
   ]
  },
  {
   "cell_type": "markdown",
   "id": "4dd6007a",
   "metadata": {},
   "source": [
    "# Preprocesamiento - Redimensionamiento de imagenes de entrenamiento"
   ]
  },
  {
   "cell_type": "code",
   "execution_count": null,
   "id": "9cfd6ac3",
   "metadata": {},
   "outputs": [],
   "source": [
    "def redimencionar_imagenes(dataset_path, target_size, nombre_clase, nombre_carpeta):\n",
    "    resized_path = os.path.join(dataset_path, nombre_carpeta)\n",
    "    os.makedirs(resized_path, exist_ok=True)\n",
    "\n",
    "    original_path = os.path.join(dataset_path, nombre_clase)\n",
    "\n",
    "    file_list = os.listdir(original_path)\n",
    "\n",
    "    # Itera sobre los archivos de cada imagen y redimensiona cada una\n",
    "    for file_name in file_list:\n",
    "        original_image_path = os.path.join(original_path, file_name)\n",
    "        image = Image.open(original_image_path)\n",
    "        resized_image = image.resize(target_size)\n",
    "        resized_image_path = os.path.join(resized_path, file_name)\n",
    "        resized_image.save(resized_image_path)\n",
    "\n",
    "# ------------------------------ Solo correr la primera vez ------------------------------\n",
    "\n",
    "dataset_path_train = \"./Train\"\n",
    "\n",
    "# Parámetros de preprocesamiento de imágenes\n",
    "img_size = (64, 64)\n",
    "batch_size = 32\n",
    "\n",
    "redimencionar_imagenes(dataset_path_train, img_size, \"WithMask\", \"WithMask_resize\") \n",
    "redimencionar_imagenes(dataset_path_train, img_size, \"WithoutMask\", \"WithoutMask_resize\") "
   ]
  },
  {
   "cell_type": "markdown",
   "id": "0060df3d",
   "metadata": {},
   "source": [
    "# Definición del modelo"
   ]
  },
  {
   "cell_type": "code",
   "execution_count": 60,
   "id": "38a5d968",
   "metadata": {},
   "outputs": [
    {
     "name": "stdout",
     "output_type": "stream",
     "text": [
      "Model: \"model_3\"\n",
      "_________________________________________________________________\n",
      " Layer (type)                Output Shape              Param #   \n",
      "=================================================================\n",
      " input_17 (InputLayer)       [(None, 64, 64, 3)]       0         \n",
      "                                                                 \n",
      " block1_conv1 (Conv2D)       (None, 64, 64, 64)        1792      \n",
      "                                                                 \n",
      " block1_conv2 (Conv2D)       (None, 64, 64, 64)        36928     \n",
      "                                                                 \n",
      " block1_pool (MaxPooling2D)  (None, 32, 32, 64)        0         \n",
      "                                                                 \n",
      " block2_conv1 (Conv2D)       (None, 32, 32, 128)       73856     \n",
      "                                                                 \n",
      " block2_conv2 (Conv2D)       (None, 32, 32, 128)       147584    \n",
      "                                                                 \n",
      " block2_pool (MaxPooling2D)  (None, 16, 16, 128)       0         \n",
      "                                                                 \n",
      " block3_conv1 (Conv2D)       (None, 16, 16, 256)       295168    \n",
      "                                                                 \n",
      " block3_conv2 (Conv2D)       (None, 16, 16, 256)       590080    \n",
      "                                                                 \n",
      " block3_conv3 (Conv2D)       (None, 16, 16, 256)       590080    \n",
      "                                                                 \n",
      " block3_conv4 (Conv2D)       (None, 16, 16, 256)       590080    \n",
      "                                                                 \n",
      " block3_pool (MaxPooling2D)  (None, 8, 8, 256)         0         \n",
      "                                                                 \n",
      " block4_conv1 (Conv2D)       (None, 8, 8, 512)         1180160   \n",
      "                                                                 \n",
      " block4_conv2 (Conv2D)       (None, 8, 8, 512)         2359808   \n",
      "                                                                 \n",
      " block4_conv3 (Conv2D)       (None, 8, 8, 512)         2359808   \n",
      "                                                                 \n",
      " block4_conv4 (Conv2D)       (None, 8, 8, 512)         2359808   \n",
      "                                                                 \n",
      " block4_pool (MaxPooling2D)  (None, 4, 4, 512)         0         \n",
      "                                                                 \n",
      " block5_conv1 (Conv2D)       (None, 4, 4, 512)         2359808   \n",
      "                                                                 \n",
      " block5_conv2 (Conv2D)       (None, 4, 4, 512)         2359808   \n",
      "                                                                 \n",
      " block5_conv3 (Conv2D)       (None, 4, 4, 512)         2359808   \n",
      "                                                                 \n",
      " block5_conv4 (Conv2D)       (None, 4, 4, 512)         2359808   \n",
      "                                                                 \n",
      " block5_pool (MaxPooling2D)  (None, 2, 2, 512)         0         \n",
      "                                                                 \n",
      " flatten_11 (Flatten)        (None, 2048)              0         \n",
      "                                                                 \n",
      " dense_21 (Dense)            (None, 2)                 4098      \n",
      "                                                                 \n",
      "=================================================================\n",
      "Total params: 20,028,482\n",
      "Trainable params: 4,098\n",
      "Non-trainable params: 20,024,384\n",
      "_________________________________________________________________\n"
     ]
    }
   ],
   "source": [
    "vgg = VGG19(weights='imagenet', include_top=False, input_shape=(64, 64, 3))\n",
    "\n",
    "# Congelar las capas convolucionales del modelo VGG19\n",
    "for layer in vgg.layers:\n",
    "    layer.trainable = False\n",
    "\n",
    "# Aplanamiento de la ultima capa\n",
    "x = Flatten()(vgg.output)\n",
    "\n",
    "# Creacion de una nueva capa de salida para clasificacion\n",
    "prediction = Dense(2, activation = 'softmax' )(x)\n",
    "\n",
    "model = Model( inputs = vgg.input , outputs = prediction )\n",
    "\n",
    "model.compile( loss = 'categorical_crossentropy',\n",
    "              optimizer = 'adam',\n",
    "              metrics = ['accuracy'] )\n",
    "\n",
    "#Guardar pesos iniciales para reutilizar el modelo\n",
    "pesos_iniciales = model.get_weights()\n",
    "model.summary()"
   ]
  },
  {
   "cell_type": "markdown",
   "id": "d6979a4f",
   "metadata": {},
   "source": [
    "# Aplicación de Hold Out en el banco de imágenes"
   ]
  },
  {
   "cell_type": "code",
   "execution_count": 61,
   "id": "b30e6466",
   "metadata": {},
   "outputs": [],
   "source": [
    "# Rutas de los directorios de las imágenes de cada clase\n",
    "directorio_clase_1 = './Train/WithMask_resize'\n",
    "directorio_clase_2 = './Train/WithoutMask_resize'\n",
    "\n",
    "# Lista para almacenar las imágenes y las etiquetas\n",
    "imagenes = []\n",
    "etiquetas = []\n",
    "\n",
    "# Recorrer el directorio de la clase 1 y cargar las imágenes\n",
    "for archivo in os.listdir(directorio_clase_1):\n",
    "    ruta_imagen = os.path.join(directorio_clase_1, archivo)\n",
    "    imagen = load_img(ruta_imagen, target_size=(64, 64))\n",
    "    imagen = img_to_array(imagen)\n",
    "    imagenes.append(imagen)\n",
    "    etiquetas.append(0)  # Etiqueta para la clase 1\n",
    "\n",
    "# Recorrer el directorio de la clase 2 y cargar las imágenes\n",
    "for archivo in os.listdir(directorio_clase_2):\n",
    "    ruta_imagen = os.path.join(directorio_clase_2, archivo)\n",
    "    imagen = load_img(ruta_imagen, target_size=(64, 64))\n",
    "    imagen = img_to_array(imagen)\n",
    "    imagenes.append(imagen)\n",
    "    etiquetas.append(1)  # Etiqueta para la clase 2\n",
    "\n",
    "# Convertir las listas a arreglos numpy\n",
    "imagenes = np.array(imagenes)\n",
    "etiquetas = np.array(etiquetas)\n",
    "etiquetas = to_categorical(etiquetas, num_classes=2)\n"
   ]
  },
  {
   "cell_type": "code",
   "execution_count": 62,
   "id": "aeb8b6e4",
   "metadata": {},
   "outputs": [],
   "source": [
    "# Aplicacion de hold out al banco de datos\n",
    "X_train, X_test, y_train, y_test = train_test_split(imagenes, etiquetas, test_size=0.2, random_state=42)\n",
    "X_train, X_val, y_train, y_val = train_test_split(X_train, y_train, test_size=0.2, random_state=42)"
   ]
  },
  {
   "cell_type": "code",
   "execution_count": 63,
   "id": "d43298eb",
   "metadata": {},
   "outputs": [
    {
     "name": "stdout",
     "output_type": "stream",
     "text": [
      "Tamaño de las imágenes en X_train: (64, 64)\n"
     ]
    }
   ],
   "source": [
    "image_size = X_train.shape[1:3]\n",
    "print(\"Tamaño de las imágenes en X_train:\", image_size)"
   ]
  },
  {
   "cell_type": "code",
   "execution_count": 64,
   "id": "64eb5bac",
   "metadata": {},
   "outputs": [
    {
     "name": "stdout",
     "output_type": "stream",
     "text": [
      "Entrenamiento: 6400\n",
      "Validación: 1600\n",
      "Prueba: 2000\n"
     ]
    }
   ],
   "source": [
    "# Normalizacion de los valores de los pixeles\n",
    "train_datagen = ImageDataGenerator(rescale=1.0 / 255)\n",
    "val_datagen = ImageDataGenerator(rescale=1.0 / 255) \n",
    "test_datagen = ImageDataGenerator(rescale=1.0/255)\n",
    "\n",
    "# Aplicacion de normalizacion y division por lotes de los distintos conjuntos de imagenes\n",
    "train_generator = train_datagen.flow(X_train, y_train, batch_size=32)\n",
    "val_generator = val_datagen.flow(X_val, y_val, batch_size=32)\n",
    "test_generator = test_datagen.flow(X_test, y_test, batch_size=32)\n",
    "\n",
    "print(f'Entrenamiento: {train_generator.n}')\n",
    "print(f'Validación: {val_generator.n}')\n",
    "print(f'Prueba: {test_generator.n}')"
   ]
  },
  {
   "cell_type": "markdown",
   "id": "79698da6",
   "metadata": {},
   "source": [
    "# Entrenamiento con 10 épocas"
   ]
  },
  {
   "cell_type": "code",
   "execution_count": 65,
   "id": "18f5f616",
   "metadata": {},
   "outputs": [
    {
     "name": "stdout",
     "output_type": "stream",
     "text": [
      "Epoch 1/10\n",
      "200/200 [==============================] - 107s 531ms/step - loss: 0.1889 - accuracy: 0.9256 - val_loss: 0.1245 - val_accuracy: 0.9544\n",
      "Epoch 2/10\n",
      "200/200 [==============================] - 116s 583ms/step - loss: 0.0967 - accuracy: 0.9667 - val_loss: 0.0958 - val_accuracy: 0.9681\n",
      "Epoch 3/10\n",
      "200/200 [==============================] - 123s 613ms/step - loss: 0.0760 - accuracy: 0.9767 - val_loss: 0.0834 - val_accuracy: 0.9725\n",
      "Epoch 4/10\n",
      "200/200 [==============================] - 116s 581ms/step - loss: 0.0646 - accuracy: 0.9786 - val_loss: 0.0783 - val_accuracy: 0.9744\n",
      "Epoch 5/10\n",
      "200/200 [==============================] - 103s 518ms/step - loss: 0.0564 - accuracy: 0.9798 - val_loss: 0.0700 - val_accuracy: 0.9781\n",
      "Epoch 6/10\n",
      "200/200 [==============================] - 103s 514ms/step - loss: 0.0506 - accuracy: 0.9834 - val_loss: 0.0748 - val_accuracy: 0.9756\n",
      "Epoch 7/10\n",
      "200/200 [==============================] - 103s 514ms/step - loss: 0.0461 - accuracy: 0.9836 - val_loss: 0.0679 - val_accuracy: 0.9769\n",
      "Epoch 8/10\n",
      "200/200 [==============================] - 103s 514ms/step - loss: 0.0414 - accuracy: 0.9872 - val_loss: 0.0637 - val_accuracy: 0.9756\n",
      "Epoch 9/10\n",
      "200/200 [==============================] - 103s 517ms/step - loss: 0.0382 - accuracy: 0.9880 - val_loss: 0.0624 - val_accuracy: 0.9781\n",
      "Epoch 10/10\n",
      "200/200 [==============================] - 103s 514ms/step - loss: 0.0347 - accuracy: 0.9897 - val_loss: 0.0616 - val_accuracy: 0.9787\n"
     ]
    }
   ],
   "source": [
    "history = model.fit(\n",
    "    train_generator,\n",
    "    steps_per_epoch=train_generator.n // batch_size,\n",
    "    epochs=10,\n",
    "    validation_data=val_generator,\n",
    "    validation_steps=val_generator.n // batch_size\n",
    ")\n",
    "\n",
    "model.save(\"modelo_64x64_10Epocs_HoldOut_VGG19.h5\")"
   ]
  },
  {
   "cell_type": "markdown",
   "id": "49d4713f",
   "metadata": {},
   "source": [
    "# Métricas"
   ]
  },
  {
   "cell_type": "code",
   "execution_count": 66,
   "id": "b9e71227",
   "metadata": {},
   "outputs": [
    {
     "name": "stdout",
     "output_type": "stream",
     "text": [
      "63/63 [==============================] - 26s 415ms/step - loss: 0.0591 - accuracy: 0.9745\n",
      "Test: accuracy = 0.974500  ;  loss = 0.059087 \n"
     ]
    }
   ],
   "source": [
    "# Evaluacion del rendimiento del modelo \n",
    "loss, accuracy = model.evaluate(test_generator)\n",
    "print(\"Test: accuracy = %f  ;  loss = %f \" % (accuracy, loss))"
   ]
  },
  {
   "cell_type": "code",
   "execution_count": 67,
   "id": "4bc4f276",
   "metadata": {},
   "outputs": [
    {
     "name": "stdout",
     "output_type": "stream",
     "text": [
      "63/63 [==============================] - 27s 410ms/step\n"
     ]
    },
    {
     "data": {
      "image/png": "[encoded data removed]",
      "text/plain": [
       "<Figure size 800x600 with 2 Axes>"
      ]
     },
     "metadata": {},
     "output_type": "display_data"
    },
    {
     "data": {
      "image/png": "[encoded data removed]",
      "text/plain": [
       "<Figure size 640x480 with 1 Axes>"
      ]
     },
     "metadata": {},
     "output_type": "display_data"
    }
   ],
   "source": [
    "# Obtener predicciones\n",
    "y_pred = model.predict(X_test)\n",
    "y_pred_classes = np.argmax(y_pred, axis=1)\n",
    "y_true = np.argmax(y_test, axis=1)\n",
    "\n",
    "confusion_mtx = confusion_matrix(y_true, y_pred_classes)\n",
    "\n",
    "# Mostrar la matriz de confusión\n",
    "plt.figure(figsize=(8, 6))\n",
    "sns.heatmap(confusion_mtx, annot=True, fmt=\"d\", cmap=\"Blues\")\n",
    "plt.xlabel('Predicciones')\n",
    "plt.ylabel('Etiquetas verdaderas')\n",
    "plt.show()\n",
    "\n",
    "# Obtener valores de pérdida\n",
    "train_loss = history.history['loss']\n",
    "val_loss = history.history['val_loss']\n",
    "\n",
    "# Crear gráfico de la curva de pérdida\n",
    "plt.plot(range(1, len(train_loss) + 1), train_loss, 'b', label='Training Loss')\n",
    "plt.plot(range(1, len(val_loss) + 1), val_loss, 'r', label='Validation Loss')\n",
    "plt.title('Loss Curve')\n",
    "plt.xlabel('Epochs')\n",
    "plt.ylabel('Loss')\n",
    "plt.legend()\n",
    "plt.show()"
   ]
  },
  {
   "cell_type": "code",
   "execution_count": 68,
   "id": "d1e2b716",
   "metadata": {},
   "outputs": [
    {
     "name": "stdout",
     "output_type": "stream",
     "text": [
      "              precision    recall  f1-score   support\n",
      "\n",
      "    WithMask       0.97      0.97      0.97      1012\n",
      " WithoutMask       0.97      0.97      0.97       988\n",
      "\n",
      "    accuracy                           0.97      2000\n",
      "   macro avg       0.97      0.97      0.97      2000\n",
      "weighted avg       0.97      0.97      0.97      2000\n",
      "\n"
     ]
    }
   ],
   "source": [
    "report = classification_report(y_true, y_pred_classes, target_names=['WithMask','WithoutMask'])\n",
    "print(report)"
   ]
  },
  {
   "cell_type": "markdown",
   "id": "c52e6efe",
   "metadata": {},
   "source": [
    "# Entrenamiento con 20 épocas"
   ]
  },
  {
   "cell_type": "code",
   "execution_count": 69,
   "id": "66c53d34",
   "metadata": {},
   "outputs": [],
   "source": [
    "#Reiniciar pesos en el modelo\n",
    "model.set_weights(pesos_iniciales)"
   ]
  },
  {
   "cell_type": "code",
   "execution_count": 70,
   "id": "2c9443f6",
   "metadata": {},
   "outputs": [
    {
     "name": "stdout",
     "output_type": "stream",
     "text": [
      "Epoch 1/20\n",
      "200/200 [==============================] - 104s 518ms/step - loss: 0.1448 - accuracy: 0.9422 - val_loss: 0.0943 - val_accuracy: 0.9663\n",
      "Epoch 2/20\n",
      "200/200 [==============================] - 104s 522ms/step - loss: 0.0778 - accuracy: 0.9739 - val_loss: 0.0840 - val_accuracy: 0.9731\n",
      "Epoch 3/20\n",
      "200/200 [==============================] - 103s 516ms/step - loss: 0.0619 - accuracy: 0.9789 - val_loss: 0.0763 - val_accuracy: 0.9756\n",
      "Epoch 4/20\n",
      "200/200 [==============================] - 103s 517ms/step - loss: 0.0527 - accuracy: 0.9819 - val_loss: 0.0770 - val_accuracy: 0.9737\n",
      "Epoch 5/20\n",
      "200/200 [==============================] - 103s 517ms/step - loss: 0.0490 - accuracy: 0.9844 - val_loss: 0.0686 - val_accuracy: 0.9769\n",
      "Epoch 6/20\n",
      "200/200 [==============================] - 104s 522ms/step - loss: 0.0436 - accuracy: 0.9856 - val_loss: 0.0663 - val_accuracy: 0.9775\n",
      "Epoch 7/20\n",
      "200/200 [==============================] - 103s 514ms/step - loss: 0.0390 - accuracy: 0.9869 - val_loss: 0.0633 - val_accuracy: 0.9762\n",
      "Epoch 8/20\n",
      "200/200 [==============================] - 102s 511ms/step - loss: 0.0352 - accuracy: 0.9891 - val_loss: 0.0634 - val_accuracy: 0.9775\n",
      "Epoch 9/20\n",
      "200/200 [==============================] - 104s 521ms/step - loss: 0.0328 - accuracy: 0.9911 - val_loss: 0.0627 - val_accuracy: 0.9775\n",
      "Epoch 10/20\n",
      "200/200 [==============================] - 104s 518ms/step - loss: 0.0297 - accuracy: 0.9920 - val_loss: 0.0605 - val_accuracy: 0.9775\n",
      "Epoch 11/20\n",
      "200/200 [==============================] - 103s 518ms/step - loss: 0.0285 - accuracy: 0.9923 - val_loss: 0.0606 - val_accuracy: 0.9794\n",
      "Epoch 12/20\n",
      "200/200 [==============================] - 103s 518ms/step - loss: 0.0260 - accuracy: 0.9933 - val_loss: 0.0619 - val_accuracy: 0.9812\n",
      "Epoch 13/20\n",
      "200/200 [==============================] - 105s 525ms/step - loss: 0.0239 - accuracy: 0.9948 - val_loss: 0.0605 - val_accuracy: 0.9787\n",
      "Epoch 14/20\n",
      "200/200 [==============================] - 105s 524ms/step - loss: 0.0230 - accuracy: 0.9947 - val_loss: 0.0589 - val_accuracy: 0.9800\n",
      "Epoch 15/20\n",
      "200/200 [==============================] - 105s 525ms/step - loss: 0.0215 - accuracy: 0.9955 - val_loss: 0.0640 - val_accuracy: 0.9800\n",
      "Epoch 16/20\n",
      "200/200 [==============================] - 104s 522ms/step - loss: 0.0195 - accuracy: 0.9970 - val_loss: 0.0591 - val_accuracy: 0.9819\n",
      "Epoch 17/20\n",
      "200/200 [==============================] - 103s 518ms/step - loss: 0.0199 - accuracy: 0.9959 - val_loss: 0.0663 - val_accuracy: 0.9781\n",
      "Epoch 18/20\n",
      "200/200 [==============================] - 104s 518ms/step - loss: 0.0179 - accuracy: 0.9970 - val_loss: 0.0577 - val_accuracy: 0.9812\n",
      "Epoch 19/20\n",
      "200/200 [==============================] - 104s 520ms/step - loss: 0.0168 - accuracy: 0.9978 - val_loss: 0.0614 - val_accuracy: 0.9812\n",
      "Epoch 20/20\n",
      "200/200 [==============================] - 104s 520ms/step - loss: 0.0166 - accuracy: 0.9972 - val_loss: 0.0617 - val_accuracy: 0.9794\n"
     ]
    }
   ],
   "source": [
    "history = model.fit(\n",
    "    train_generator,\n",
    "    steps_per_epoch=train_generator.n // batch_size,\n",
    "    epochs=20,\n",
    "    validation_data=val_generator,\n",
    "    validation_steps=val_generator.n // batch_size\n",
    ")\n",
    "\n",
    "\n",
    "model.save(\"modelo_64x64_20Epocs_HoldOut_VGG19.h5\")"
   ]
  },
  {
   "cell_type": "code",
   "execution_count": 75,
   "id": "1f0e96ba",
   "metadata": {},
   "outputs": [
    {
     "name": "stdout",
     "output_type": "stream",
     "text": [
      "63/63 [==============================] - 29s 462ms/step - loss: 0.0803 - accuracy: 0.9690\n",
      "Test: accuracy = 0.969000  ;  loss = 0.080343 \n"
     ]
    }
   ],
   "source": [
    "# Evaluacion del rendimiento del modelo \n",
    "loss, accuracy = model.evaluate(test_generator)\n",
    "print(\"Test: accuracy = %f  ;  loss = %f \" % (accuracy, loss))"
   ]
  },
  {
   "cell_type": "code",
   "execution_count": 71,
   "id": "a08f223d",
   "metadata": {},
   "outputs": [
    {
     "name": "stdout",
     "output_type": "stream",
     "text": [
      "63/63 [==============================] - 26s 410ms/step\n"
     ]
    },
    {
     "data": {
      "image/png": "[encoded data removed]",
      "text/plain": [
       "<Figure size 800x600 with 2 Axes>"
      ]
     },
     "metadata": {},
     "output_type": "display_data"
    },
    {
     "data": {
      "image/png": "[encoded data removed]",
      "text/plain": [
       "<Figure size 640x480 with 1 Axes>"
      ]
     },
     "metadata": {},
     "output_type": "display_data"
    }
   ],
   "source": [
    "# Evaluar el modelo en los datos de prueba\n",
    "model = load_model(\"modelo_64x64_20Epocs_HoldOut_VGG19.h5\")\n",
    "with open('history_20Epocs_vgg19.pkl', 'rb') as file:\n",
    "    history = pickle.load(file)\n",
    "\n",
    "# Obtener predicciones\n",
    "y_pred = model.predict(X_test)\n",
    "y_pred_classes = np.argmax(y_pred, axis=1)\n",
    "y_true = np.argmax(y_test, axis=1)\n",
    "\n",
    "# Calcular matriz de confusión\n",
    "confusion_mtx = confusion_matrix(y_true, y_pred_classes)\n",
    "\n",
    "# Mostrar la matriz de confusión\n",
    "plt.figure(figsize=(8, 6))\n",
    "sns.heatmap(confusion_mtx, annot=True, fmt=\"d\", cmap=\"Blues\")\n",
    "plt.xlabel('Predicciones')\n",
    "plt.ylabel('Etiquetas verdaderas')\n",
    "plt.show()\n",
    "\n",
    "# Obtener valores de pérdida\n",
    "train_loss = history['loss']\n",
    "val_loss = history['val_loss']\n",
    "\n",
    "# Crear gráfico de la curva de pérdida\n",
    "plt.plot(range(1, len(train_loss) + 1), train_loss, 'b', label='Training Loss')\n",
    "plt.plot(range(1, len(val_loss) + 1), val_loss, 'r', label='Validation Loss')\n",
    "plt.title('Loss Curve')\n",
    "plt.xlabel('Epochs')\n",
    "plt.ylabel('Loss')\n",
    "plt.legend()\n",
    "plt.show()"
   ]
  },
  {
   "cell_type": "code",
   "execution_count": 76,
   "id": "5f52427d",
   "metadata": {},
   "outputs": [
    {
     "name": "stdout",
     "output_type": "stream",
     "text": [
      "              precision    recall  f1-score   support\n",
      "\n",
      "    WithMask       0.97      0.97      0.97      1012\n",
      " WithoutMask       0.97      0.97      0.97       988\n",
      "\n",
      "    accuracy                           0.97      2000\n",
      "   macro avg       0.97      0.97      0.97      2000\n",
      "weighted avg       0.97      0.97      0.97      2000\n",
      "\n"
     ]
    }
   ],
   "source": [
    "report = classification_report(y_true, y_pred_classes, target_names=['WithMask','WithoutMask'])\n",
    "print(report)"
   ]
  },
  {
   "cell_type": "markdown",
   "id": "04286537",
   "metadata": {},
   "source": [
    "# Pruebas "
   ]
  },
  {
   "cell_type": "markdown",
   "id": "ca171414",
   "metadata": {},
   "source": [
    "# 10 Épocas"
   ]
  },
  {
   "cell_type": "code",
   "execution_count": 83,
   "id": "2663b02f",
   "metadata": {},
   "outputs": [
    {
     "name": "stdout",
     "output_type": "stream",
     "text": [
      "1/1 [==============================] - 0s 269ms/step\n",
      "1/1 [==============================] - 0s 48ms/step\n",
      "1/1 [==============================] - 0s 46ms/step\n",
      "1/1 [==============================] - 0s 70ms/step\n",
      "1/1 [==============================] - 0s 50ms/step\n",
      "1/1 [==============================] - 0s 51ms/step\n",
      "1/1 [==============================] - 0s 51ms/step\n",
      "1/1 [==============================] - 0s 51ms/step\n",
      "1/1 [==============================] - 0s 51ms/step\n",
      "1/1 [==============================] - 0s 47ms/step\n",
      "1/1 [==============================] - 0s 46ms/step\n",
      "1/1 [==============================] - 0s 47ms/step\n",
      "1/1 [==============================] - 0s 50ms/step\n",
      "1/1 [==============================] - 0s 45ms/step\n",
      "1/1 [==============================] - 0s 46ms/step\n",
      "1/1 [==============================] - 0s 47ms/step\n",
      "1/1 [==============================] - 0s 64ms/step\n",
      "1/1 [==============================] - 0s 48ms/step\n",
      "1/1 [==============================] - 0s 49ms/step\n",
      "1/1 [==============================] - 0s 61ms/step\n",
      "1/1 [==============================] - 0s 61ms/step\n",
      "Etiqueta verdadera: WithoutMask\n",
      "Etiqueta predicha:  WithMask\n",
      "Imagen:  00_Sin.jpg\n",
      "\n",
      "Etiqueta verdadera: WithoutMask\n",
      "Etiqueta predicha:  WithMask\n",
      "Imagen:  01_Sin.png\n",
      "\n",
      "Etiqueta verdadera: WithoutMask\n",
      "Etiqueta predicha:  WithMask\n",
      "Imagen:  02_Sin.jpg\n",
      "\n",
      "Etiqueta verdadera: WithoutMask\n",
      "Etiqueta predicha:  WithMask\n",
      "Imagen:  03_Sin.png\n",
      "\n",
      "Etiqueta verdadera: WithoutMask\n",
      "Etiqueta predicha:  WithMask\n",
      "Imagen:  04_Sin.png\n",
      "\n",
      "Etiqueta verdadera: WithoutMask\n",
      "Etiqueta predicha:  WithoutMask\n",
      "Imagen:  05_Sin.png\n",
      "\n",
      "Etiqueta verdadera: WithoutMask\n",
      "Etiqueta predicha:  WithoutMask\n",
      "Imagen:  06_Sin.png\n",
      "\n",
      "Etiqueta verdadera: WithoutMask\n",
      "Etiqueta predicha:  WithoutMask\n",
      "Imagen:  07_Sin.jpg\n",
      "\n",
      "Etiqueta verdadera: WithoutMask\n",
      "Etiqueta predicha:  WithoutMask\n",
      "Imagen:  08_Sin.jpg\n",
      "\n",
      "Etiqueta verdadera: WithoutMask\n",
      "Etiqueta predicha:  WithMask\n",
      "Imagen:  09_Sin.jpg\n",
      "\n",
      "Etiqueta verdadera: WithoutMask\n",
      "Etiqueta predicha:  WithoutMask\n",
      "Imagen:  10_Sin.jpg\n",
      "\n",
      "Etiqueta verdadera: WithMask\n",
      "Etiqueta predicha:  WithMask\n",
      "Imagen:  11_Con.jpg\n",
      "\n",
      "Etiqueta verdadera: WithMask\n",
      "Etiqueta predicha:  WithMask\n",
      "Imagen:  12_Con.jpg\n",
      "\n",
      "Etiqueta verdadera: WithMask\n",
      "Etiqueta predicha:  WithMask\n",
      "Imagen:  13_Con.jpg\n",
      "\n",
      "Etiqueta verdadera: WithMask\n",
      "Etiqueta predicha:  WithMask\n",
      "Imagen:  14_Con.png\n",
      "\n",
      "Etiqueta verdadera: WithMask\n",
      "Etiqueta predicha:  WithMask\n",
      "Imagen:  15_Con.jpg\n",
      "\n",
      "Etiqueta verdadera: WithMask\n",
      "Etiqueta predicha:  WithMask\n",
      "Imagen:  16_Con.jpg\n",
      "\n",
      "Etiqueta verdadera: WithMask\n",
      "Etiqueta predicha:  WithMask\n",
      "Imagen:  17_Con.jpg\n",
      "\n",
      "Etiqueta verdadera: WithMask\n",
      "Etiqueta predicha:  WithMask\n",
      "Imagen:  18_Con.jpg\n",
      "\n",
      "Etiqueta verdadera: WithMask\n",
      "Etiqueta predicha:  WithMask\n",
      "Imagen:  19_Con.jpg\n",
      "\n",
      "Etiqueta verdadera: WithMask\n",
      "Etiqueta predicha:  WithMask\n",
      "Imagen:  20_Con.jpg\n",
      "\n"
     ]
    }
   ],
   "source": [
    "model = load_model(\"modelo_64x64_10Epocs_HoldOut_VGG19.h5\")\n",
    "prueba_dir = \"Prueba\"\n",
    "\n",
    "clases_etiquetas = {\n",
    "    0: \"WithMask\",\n",
    "    1: \"WithoutMask\",\n",
    "}\n",
    "\n",
    "# Lista para almacenar los nombres de archivo y las predicciones\n",
    "predicciones = []\n",
    "\n",
    "# Recorre los archivos en la carpeta de prueba\n",
    "for filename in os.listdir(prueba_dir):\n",
    "    if filename.endswith(\".jpg\") or filename.endswith(\".png\"):  # Asegúrate de que solo se consideren archivos de imagen\n",
    "        # Ruta completa de la imagen\n",
    "        imagen_path = os.path.join(prueba_dir, filename)\n",
    "\n",
    "        # Carga la imagen\n",
    "        image = Image.open(imagen_path)\n",
    "        image = image.convert(\"RGB\")\n",
    "\n",
    "        # Preprocesa la imagen\n",
    "        image = image.resize((64, 64))\n",
    "        image_array = np.array(image)\n",
    "        image_array = image_array / 255.0\n",
    "        input_array = np.expand_dims(image_array, axis=0)\n",
    "\n",
    "        # Realiza la predicción\n",
    "        prediction = model.predict(input_array)\n",
    "        predicted_class = np.argmax(prediction)\n",
    "\n",
    "        # Obtén la etiqueta correspondiente al número de clase\n",
    "        clase_etiqueta = clases_etiquetas[predicted_class]\n",
    "\n",
    "        # Guarda el nombre del archivo, la predicción y la etiqueta en la lista\n",
    "        predicciones.append((filename, predicted_class, clase_etiqueta))\n",
    "\n",
    "# Imprime las predicciones\n",
    "for nombre_archivo, clase_predicha, etiqueta in predicciones:\n",
    "    # Obtener la etiqueta verdadera del archivo\n",
    "    if \"Sin\" in nombre_archivo:\n",
    "        etiqueta_verdadera = \"WithoutMask\"\n",
    "    elif \"Con\" in nombre_archivo:\n",
    "        etiqueta_verdadera = \"WithMask\"\n",
    "    else:\n",
    "        etiqueta_verdadera = \"Etiqueta desconocida\"\n",
    "\n",
    "    # Imprimir la etiqueta verdadera\n",
    "    print(\"Etiqueta verdadera:\", etiqueta_verdadera)\n",
    "    print(\"Etiqueta predicha: \", etiqueta)\n",
    "    print(\"Imagen: \", nombre_archivo)\n",
    "    print()"
   ]
  },
  {
   "cell_type": "markdown",
   "id": "21465521",
   "metadata": {},
   "source": [
    "# 20 epocas"
   ]
  },
  {
   "cell_type": "code",
   "execution_count": 82,
   "id": "06360bcc",
   "metadata": {},
   "outputs": [
    {
     "name": "stdout",
     "output_type": "stream",
     "text": [
      "1/1 [==============================] - 2s 2s/step\n",
      "1/1 [==============================] - 0s 132ms/step\n",
      "1/1 [==============================] - 0s 69ms/step\n",
      "1/1 [==============================] - 0s 82ms/step\n",
      "1/1 [==============================] - 0s 72ms/step\n",
      "1/1 [==============================] - 0s 47ms/step\n",
      "1/1 [==============================] - 0s 48ms/step\n",
      "1/1 [==============================] - 0s 47ms/step\n",
      "1/1 [==============================] - 0s 67ms/step\n",
      "1/1 [==============================] - 0s 48ms/step\n",
      "1/1 [==============================] - 0s 65ms/step\n",
      "1/1 [==============================] - 0s 81ms/step\n",
      "1/1 [==============================] - 0s 57ms/step\n",
      "1/1 [==============================] - 0s 55ms/step\n",
      "1/1 [==============================] - 0s 51ms/step\n",
      "1/1 [==============================] - 0s 53ms/step\n",
      "1/1 [==============================] - 0s 52ms/step\n",
      "1/1 [==============================] - 0s 50ms/step\n",
      "1/1 [==============================] - 0s 50ms/step\n",
      "1/1 [==============================] - 0s 57ms/step\n",
      "1/1 [==============================] - 0s 61ms/step\n",
      "Etiqueta verdadera: WithoutMask\n",
      "Etiqueta predicha:  WithMask\n",
      "Imagen:  00_Sin.jpg\n",
      "\n",
      "Etiqueta verdadera: WithoutMask\n",
      "Etiqueta predicha:  WithMask\n",
      "Imagen:  01_Sin.png\n",
      "\n",
      "Etiqueta verdadera: WithoutMask\n",
      "Etiqueta predicha:  WithMask\n",
      "Imagen:  02_Sin.jpg\n",
      "\n",
      "Etiqueta verdadera: WithoutMask\n",
      "Etiqueta predicha:  WithMask\n",
      "Imagen:  03_Sin.png\n",
      "\n",
      "Etiqueta verdadera: WithoutMask\n",
      "Etiqueta predicha:  WithoutMask\n",
      "Imagen:  04_Sin.png\n",
      "\n",
      "Etiqueta verdadera: WithoutMask\n",
      "Etiqueta predicha:  WithoutMask\n",
      "Imagen:  05_Sin.png\n",
      "\n",
      "Etiqueta verdadera: WithoutMask\n",
      "Etiqueta predicha:  WithoutMask\n",
      "Imagen:  06_Sin.png\n",
      "\n",
      "Etiqueta verdadera: WithoutMask\n",
      "Etiqueta predicha:  WithoutMask\n",
      "Imagen:  07_Sin.jpg\n",
      "\n",
      "Etiqueta verdadera: WithoutMask\n",
      "Etiqueta predicha:  WithoutMask\n",
      "Imagen:  08_Sin.jpg\n",
      "\n",
      "Etiqueta verdadera: WithoutMask\n",
      "Etiqueta predicha:  WithMask\n",
      "Imagen:  09_Sin.jpg\n",
      "\n",
      "Etiqueta verdadera: WithoutMask\n",
      "Etiqueta predicha:  WithoutMask\n",
      "Imagen:  10_Sin.jpg\n",
      "\n",
      "Etiqueta verdadera: WithMask\n",
      "Etiqueta predicha:  WithMask\n",
      "Imagen:  11_Con.jpg\n",
      "\n",
      "Etiqueta verdadera: WithMask\n",
      "Etiqueta predicha:  WithMask\n",
      "Imagen:  12_Con.jpg\n",
      "\n",
      "Etiqueta verdadera: WithMask\n",
      "Etiqueta predicha:  WithMask\n",
      "Imagen:  13_Con.jpg\n",
      "\n",
      "Etiqueta verdadera: WithMask\n",
      "Etiqueta predicha:  WithMask\n",
      "Imagen:  14_Con.png\n",
      "\n",
      "Etiqueta verdadera: WithMask\n",
      "Etiqueta predicha:  WithMask\n",
      "Imagen:  15_Con.jpg\n",
      "\n",
      "Etiqueta verdadera: WithMask\n",
      "Etiqueta predicha:  WithMask\n",
      "Imagen:  16_Con.jpg\n",
      "\n",
      "Etiqueta verdadera: WithMask\n",
      "Etiqueta predicha:  WithMask\n",
      "Imagen:  17_Con.jpg\n",
      "\n",
      "Etiqueta verdadera: WithMask\n",
      "Etiqueta predicha:  WithMask\n",
      "Imagen:  18_Con.jpg\n",
      "\n",
      "Etiqueta verdadera: WithMask\n",
      "Etiqueta predicha:  WithMask\n",
      "Imagen:  19_Con.jpg\n",
      "\n",
      "Etiqueta verdadera: WithMask\n",
      "Etiqueta predicha:  WithMask\n",
      "Imagen:  20_Con.jpg\n",
      "\n"
     ]
    }
   ],
   "source": [
    "model = load_model(\"modelo_64x64_20Epocs_HoldOut_VGG19.h5\")\n",
    "prueba_dir = \"Prueba\"\n",
    "\n",
    "clases_etiquetas = {\n",
    "    0: \"WithMask\",\n",
    "    1: \"WithoutMask\",\n",
    "}\n",
    "\n",
    "# Lista para almacenar los nombres de archivo y las predicciones\n",
    "predicciones = []\n",
    "\n",
    "# Recorre los archivos en la carpeta de prueba\n",
    "for filename in os.listdir(prueba_dir):\n",
    "    if filename.endswith(\".jpg\") or filename.endswith(\".png\"):  # Asegúrate de que solo se consideren archivos de imagen\n",
    "        # Ruta completa de la imagen\n",
    "        imagen_path = os.path.join(prueba_dir, filename)\n",
    "\n",
    "        # Carga la imagen\n",
    "        image = Image.open(imagen_path)\n",
    "        image = image.convert(\"RGB\")\n",
    "\n",
    "        # Preprocesa la imagen\n",
    "        image = image.resize((64, 64))\n",
    "        image_array = np.array(image)\n",
    "        image_array = image_array / 255.0\n",
    "        input_array = np.expand_dims(image_array, axis=0)\n",
    "\n",
    "        # Realiza la predicción\n",
    "        prediction = model.predict(input_array)\n",
    "        predicted_class = np.argmax(prediction)\n",
    "\n",
    "        # Obtén la etiqueta correspondiente al número de clase\n",
    "        clase_etiqueta = clases_etiquetas[predicted_class]\n",
    "\n",
    "        # Guarda el nombre del archivo, la predicción y la etiqueta en la lista\n",
    "        predicciones.append((filename, predicted_class, clase_etiqueta))\n",
    "\n",
    "# Imprime las predicciones\n",
    "for nombre_archivo, clase_predicha, etiqueta in predicciones:\n",
    "    # Obtener la etiqueta verdadera del archivo\n",
    "    if \"Sin\" in nombre_archivo:\n",
    "        etiqueta_verdadera = \"WithoutMask\"\n",
    "    elif \"Con\" in nombre_archivo:\n",
    "        etiqueta_verdadera = \"WithMask\"\n",
    "    else:\n",
    "        etiqueta_verdadera = \"Etiqueta desconocida\"\n",
    "\n",
    "    # Imprimir la etiqueta verdadera\n",
    "    print(\"Etiqueta verdadera:\", etiqueta_verdadera)\n",
    "    print(\"Etiqueta predicha: \", etiqueta)\n",
    "    print(\"Imagen: \", nombre_archivo)\n",
    "    print()"
   ]
  }
 ],
 "metadata": {
  "kernelspec": {
   "display_name": "Python 3 (ipykernel)",
   "language": "python",
   "name": "python3"
  },
  "language_info": {
   "codemirror_mode": {
    "name": "ipython",
    "version": 3
   },
   "file_extension": ".py",
   "mimetype": "text/x-python",
   "name": "python",
   "nbconvert_exporter": "python",
   "pygments_lexer": "ipython3",
   "version": "3.10.0"
  }
 },
 "nbformat": 4,
 "nbformat_minor": 5
}
